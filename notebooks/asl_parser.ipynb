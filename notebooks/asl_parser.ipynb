{
 "cells": [
  {
   "cell_type": "code",
   "execution_count": null,
   "id": "89a8cda8",
   "metadata": {},
   "outputs": [],
   "source": [
    "import numpy as np\n",
    "import matplotlib.pyplot as plt\n",
    "import pandas as pd"
   ]
  },
  {
   "cell_type": "code",
   "execution_count": null,
   "id": "2bca687a",
   "metadata": {},
   "outputs": [],
   "source": [
    "path = '/home/ruslan/datasets/data/asl_laser'\n",
    "world = 'eth'"
   ]
  },
  {
   "cell_type": "markdown",
   "id": "a9fc560d",
   "metadata": {},
   "source": [
    "### Ground trith pose of Scanner"
   ]
  },
  {
   "cell_type": "code",
   "execution_count": null,
   "id": "e9114c1a",
   "metadata": {},
   "outputs": [],
   "source": [
    "pose_scanner_leica =  pd.read_csv(f'{path}/{world}/leica/pose_scanner_leica.csv')"
   ]
  },
  {
   "cell_type": "code",
   "execution_count": null,
   "id": "44f8b0fc",
   "metadata": {},
   "outputs": [],
   "source": [
    "T00 = pose_scanner_leica[' T00']\n",
    "T01 = pose_scanner_leica[' T01']\n",
    "T02 = pose_scanner_leica[' T02']\n",
    "T03 = pose_scanner_leica[' T03']\n",
    "T10 = pose_scanner_leica[' T10']\n",
    "T11 = pose_scanner_leica[' T11']\n",
    "T12 = pose_scanner_leica[' T12']\n",
    "T13 = pose_scanner_leica[' T13']\n",
    "T20 = pose_scanner_leica[' T20']\n",
    "T21 = pose_scanner_leica[' T21']\n",
    "T22 = pose_scanner_leica[' T22']\n",
    "T23 = pose_scanner_leica[' T23']\n",
    "T30 = pose_scanner_leica[' T30']\n",
    "T31 = pose_scanner_leica[' T31']\n",
    "T32 = pose_scanner_leica[' T32']\n",
    "T33 = pose_scanner_leica[' T33']\n",
    "\n",
    "N = len(T00)\n",
    "T = []\n",
    "for i in range(N):\n",
    "    t = [[T00[i], T01[i], T02[i], T03[i]],\n",
    "         [T10[i], T11[i], T12[i], T13[i]],\n",
    "         [T20[i], T21[i], T22[i], T23[i]],\n",
    "         [T30[i], T31[i], T32[i], T33[i]]]\n",
    "    T.append(t)\n",
    "T = np.asarray(T)\n",
    "\n",
    "assert T.shape == (N, 4, 4)"
   ]
  },
  {
   "cell_type": "code",
   "execution_count": null,
   "id": "afdc28bc",
   "metadata": {},
   "outputs": [],
   "source": [
    "plt.plot(T[:, 0, 3], T[:, 1, 3], '.')"
   ]
  },
  {
   "cell_type": "markdown",
   "id": "d4e42cba",
   "metadata": {},
   "source": [
    "### Load point clouds"
   ]
  },
  {
   "cell_type": "code",
   "execution_count": null,
   "id": "818a20ec",
   "metadata": {},
   "outputs": [],
   "source": [
    "import os\n",
    "import open3d as o3d\n",
    "import sys\n",
    "\n",
    "# only needed for tutorial, monkey patches visualization\n",
    "sys.path.append('/home/ruslan/subt/thirdparty/Open3D/examples/python/')\n",
    "import open3d_tutorial as o3dtut\n",
    "# change to True if you want to interact with the visualization windows\n",
    "o3dtut.interactive = not \"CI\" in os.environ"
   ]
  },
  {
   "cell_type": "code",
   "execution_count": null,
   "id": "944de3ab",
   "metadata": {},
   "outputs": [],
   "source": [
    "# pcs = [pd.read_csv(f'{path}/{world}/csv_global/PointCloud{i}.csv') for i in range(N)]\n",
    "pcs = [pd.read_csv(f'{path}/{world}/csv_local/Hokuyo_{i}.csv') for i in range(N)]"
   ]
  },
  {
   "cell_type": "code",
   "execution_count": null,
   "id": "fa011f21",
   "metadata": {},
   "outputs": [],
   "source": [
    "i = np.random.choice(N)\n",
    "pts = np.asarray([pcs[i]['x'], pcs[i]['y'], pcs[i]['z']]).T\n",
    "assert pts.shape[1] == 3"
   ]
  },
  {
   "cell_type": "code",
   "execution_count": null,
   "id": "8a59f260",
   "metadata": {},
   "outputs": [],
   "source": [
    "plt.figure(figsize=(10, 10))\n",
    "# plt.plot(pcs[0]['x'][::10], pcs[0]['y'][::10], '.')\n",
    "plt.plot(pts[:, 0][::10], pts[:, 1][::10], '.')"
   ]
  },
  {
   "cell_type": "code",
   "execution_count": null,
   "id": "77ace9c7",
   "metadata": {},
   "outputs": [],
   "source": [
    "pcd = o3d.geometry.PointCloud()\n",
    "pcd.points = o3d.utility.Vector3dVector(pts)\n",
    "pcd = pcd.voxel_down_sample(voxel_size=0.5)\n",
    "# Flip it, otherwise the pointcloud will be upside down\n",
    "pcd.transform([[1, 0, 0, 0], [0, -1, 0, 0], [0, 0, -1, 0], [0, 0, 0, 1]])\n",
    "\n",
    "o3d.visualization.draw_geometries([pcd])"
   ]
  },
  {
   "cell_type": "code",
   "execution_count": null,
   "id": "75f262ea",
   "metadata": {},
   "outputs": [],
   "source": [
    "pcd.estimate_normals()\n",
    "pcd.normalize_normals()\n",
    "pcd.normals = o3d.utility.Vector3dVector(np.asarray(pcd.normals) / 4.)\n",
    "pcd.orient_normals_consistent_tangent_plane(k=15)\n",
    "o3d.visualization.draw_geometries([pcd], point_show_normal=True)"
   ]
  },
  {
   "cell_type": "markdown",
   "id": "53749735",
   "metadata": {},
   "source": [
    "### Construct global map from sequence of local ones"
   ]
  },
  {
   "cell_type": "code",
   "execution_count": null,
   "id": "215cacb8",
   "metadata": {},
   "outputs": [],
   "source": []
  }
 ],
 "metadata": {
  "kernelspec": {
   "display_name": "Python 3 (ipykernel)",
   "language": "python",
   "name": "python3"
  },
  "language_info": {
   "codemirror_mode": {
    "name": "ipython",
    "version": 3
   },
   "file_extension": ".py",
   "mimetype": "text/x-python",
   "name": "python",
   "nbconvert_exporter": "python",
   "pygments_lexer": "ipython3",
   "version": "3.8.8"
  }
 },
 "nbformat": 4,
 "nbformat_minor": 5
}
