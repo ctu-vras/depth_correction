{
 "cells": [
  {
   "cell_type": "code",
   "execution_count": null,
   "id": "21f67bd8",
   "metadata": {},
   "outputs": [],
   "source": [
    "import numpy as np\n",
    "import pandas as pd\n",
    "import matplotlib.pyplot as plt\n",
    "import os"
   ]
  },
  {
   "cell_type": "markdown",
   "id": "f7c95b0e",
   "metadata": {},
   "source": [
    "## Distance to board: 8.6 [m]"
   ]
  },
  {
   "cell_type": "code",
   "execution_count": null,
   "id": "abb00a1a",
   "metadata": {},
   "outputs": [],
   "source": [
    "path = '../data/fee_corridor/bags/leica_ouster/'\n",
    "\n",
    "csvs = ['big_board/8m/depth_correction_black_board_2023-02-06-16-46-40_bias_estimation.csv',\n",
    "        'big_board/8m/depth_correction_2023-02-06-16-15-50_bias_estimation.csv',\n",
    "        'small_board/depth_correction_black_board_ouster_leica_2023-02-02-14-50-38_bias_estimation.csv',\n",
    "        'small_board/depth_correction_white_board_ouster_leica_2023-02-02-13-44-08_bias_estimation.csv']\n",
    "\n",
    "csvs = [os.path.join(path, f) for f in csvs]"
   ]
  },
  {
   "cell_type": "code",
   "execution_count": null,
   "id": "c1ae8d5c",
   "metadata": {},
   "outputs": [],
   "source": [
    "df = pd.read_csv(csvs[0])"
   ]
  },
  {
   "cell_type": "code",
   "execution_count": null,
   "id": "73a1b2c0",
   "metadata": {},
   "outputs": [],
   "source": [
    "print([k for k, _ in df.items()])"
   ]
  },
  {
   "cell_type": "code",
   "execution_count": null,
   "id": "5b66797f",
   "metadata": {
    "scrolled": true
   },
   "outputs": [],
   "source": [
    "for f in csvs:\n",
    "    df = pd.read_csv(f)\n",
    "    \n",
    "    plt.figure()\n",
    "    plt.plot(df['# Angles [deg]'])\n",
    "    plt.show()"
   ]
  },
  {
   "cell_type": "code",
   "execution_count": null,
   "id": "84e32352",
   "metadata": {},
   "outputs": [],
   "source": [
    "def interpolate_icp_dists(angles, dists, min_angle=0, max_angle=80, angle_step=1):\n",
    "    \n",
    "    angles_uniform = np.arange(min_angle, max_angle, angle_step)\n",
    "    if angles[0] > angles[-1]:\n",
    "        angles = angles[::-1]\n",
    "        dists = dists[::-1]\n",
    "        \n",
    "    dists_interp = np.interp(angles_uniform, angles, dists)\n",
    "    \n",
    "    if np.min(angles) > min_angle:\n",
    "        dists_interp[angles_uniform < np.min(angles)] = np.nan\n",
    "        \n",
    "    if np.max(angles) < max_angle:\n",
    "        dists_interp[angles_uniform > np.max(angles)] = np.nan\n",
    "\n",
    "    return angles_uniform, dists_interp"
   ]
  },
  {
   "cell_type": "code",
   "execution_count": null,
   "id": "5fcd9e60",
   "metadata": {
    "scrolled": false
   },
   "outputs": [],
   "source": [
    "from scipy.signal import argrelextrema\n",
    "\n",
    "plt.figure(figsize=(10, 10))\n",
    "plt.grid(visible=True)\n",
    "\n",
    "all_angles = []\n",
    "all_icp_dists = []\n",
    "\n",
    "for f in csvs:\n",
    "    df = pd.read_csv(f)\n",
    "    \n",
    "    angles = np.asarray(df['# Angles [deg]'])\n",
    "    \n",
    "    icp_dists = df[' ICP dist [m]']\n",
    "\n",
    "    minimum_ids = argrelextrema(angles, np.less)[0]\n",
    "    maximum_ids = argrelextrema(angles, np.greater)[0]\n",
    "\n",
    "    extremum_ids = np.sort(minimum_ids.tolist() + maximum_ids.tolist()).tolist()   \n",
    "    ids = [0] + extremum_ids + [len(angles)]\n",
    "\n",
    "    for i in range(len(ids)-1):\n",
    "        angles_seq = angles[ids[i]:ids[i+1]]\n",
    "        dists_seq = icp_dists[ids[i]:ids[i+1]]\n",
    "        \n",
    "        angles_interp, dists_interp = interpolate_icp_dists(angles_seq, dists_seq)\n",
    "        assert len(angles_interp) == len(dists_interp)\n",
    "        \n",
    "        plt.plot(angles_interp, dists_interp, '--')\n",
    "        plt.plot(angles_seq, dists_seq, 'x')\n",
    "        \n",
    "        all_angles.append(angles_interp)\n",
    "        all_icp_dists.append(dists_interp)\n",
    "        \n",
    "mean_dists = np.nanmean(all_icp_dists, axis=0)\n",
    "std_dists = np.nanstd(all_icp_dists, axis=0)\n",
    "\n",
    "plt.plot(angles_interp, mean_dists)\n",
    "plt.fill_between(angles_interp, mean_dists - std_dists, mean_dists + std_dists, alpha=0.2)"
   ]
  },
  {
   "cell_type": "code",
   "execution_count": null,
   "id": "828b49db",
   "metadata": {},
   "outputs": [],
   "source": [
    "def mean_bias_estimation(csvs):\n",
    "    all_angles = []\n",
    "    all_icp_dists = []\n",
    "    all_icp_dists_cor = []\n",
    "\n",
    "    for f in csvs:\n",
    "        df = pd.read_csv(f)\n",
    "\n",
    "        angles = np.asarray(df['# Angles [deg]'])\n",
    "\n",
    "        icp_dists = df[' ICP dist [m]']\n",
    "        icp_dists_cor = df[' ICP dist DC [m]']\n",
    "\n",
    "        minimum_ids = argrelextrema(angles, np.less)[0]\n",
    "        maximum_ids = argrelextrema(angles, np.greater)[0]\n",
    "\n",
    "        extremum_ids = np.sort(minimum_ids.tolist() + maximum_ids.tolist()).tolist()   \n",
    "        ids = [0] + extremum_ids + [len(angles)]\n",
    "\n",
    "        for i in range(len(ids)-1):\n",
    "            angles_seq = angles[ids[i]:ids[i+1]]\n",
    "            dists_seq = icp_dists[ids[i]:ids[i+1]]\n",
    "            dists_cor_seq = icp_dists_cor[ids[i]:ids[i+1]]\n",
    "\n",
    "            angles_interp, dists_interp = interpolate_icp_dists(angles_seq, dists_seq)\n",
    "            _, dists_cor_interp = interpolate_icp_dists(angles_seq, dists_cor_seq)\n",
    "            assert len(angles_interp) == len(dists_interp)\n",
    "\n",
    "            all_angles.append(angles_interp)\n",
    "            all_icp_dists.append(dists_interp)\n",
    "            all_icp_dists_cor.append(dists_cor_interp)\n",
    "\n",
    "    mean_dists = np.nanmean(all_icp_dists, axis=0)\n",
    "    std_dists = np.nanstd(all_icp_dists, axis=0)\n",
    "    \n",
    "    mean_dists_cor = np.nanmean(all_icp_dists_cor, axis=0)\n",
    "    std_dists_cor = np.nanstd(all_icp_dists_cor, axis=0)\n",
    "\n",
    "    return mean_dists, std_dists, mean_dists_cor, std_dists_cor, angles_interp"
   ]
  },
  {
   "cell_type": "code",
   "execution_count": null,
   "id": "f8a59107",
   "metadata": {},
   "outputs": [],
   "source": [
    "plt.rcParams.update({'font.size': 24})\n",
    "plt.figure(figsize=(20, 10))\n",
    "plt.grid()\n",
    "# plt.ylim([0, 0.20])\n",
    "# plt.xlim([0, 90])\n",
    "plt.ylabel('ICP point-to-plane distance [m]')\n",
    "plt.xlabel('Incidence angle [deg]')\n",
    "\n",
    "def fname2label(fname):\n",
    "    label_pattern = '{distance}m_dist_{board_side}_board'\n",
    "    distance = 5.3 if 'small' in fname else 8.6\n",
    "    board_side = 'black' if 'black' in fname else 'white'\n",
    "    label = label_pattern.format(distance=distance, board_side=board_side)\n",
    "    return label\n",
    "\n",
    "np.random.seed(14)\n",
    "colors = [np.random.random(3) for f in csvs]\n",
    "\n",
    "for i, f in enumerate(csvs):\n",
    "    mean_dists, std_dists, mean_dists_cor, std_dists_cor, angles_interp = mean_bias_estimation(csvs=[f])\n",
    "\n",
    "    plt.plot(angles_interp, mean_dists, '--', color=colors[i])\n",
    "    plt.fill_between(angles_interp, mean_dists - std_dists, mean_dists + std_dists, alpha=0.2, color=colors[i])\n",
    "    \n",
    "    plt.plot(angles_interp, mean_dists_cor, label=fname2label(f), color=colors[i])\n",
    "    plt.fill_between(angles_interp, mean_dists_cor - std_dists_cor, mean_dists_cor + std_dists_cor, alpha=0.2, color=colors[i])\n",
    "    plt.legend()"
   ]
  }
 ],
 "metadata": {
  "kernelspec": {
   "display_name": "Python 3 (ipykernel)",
   "language": "python",
   "name": "python3"
  },
  "language_info": {
   "codemirror_mode": {
    "name": "ipython",
    "version": 3
   },
   "file_extension": ".py",
   "mimetype": "text/x-python",
   "name": "python",
   "nbconvert_exporter": "python",
   "pygments_lexer": "ipython3",
   "version": "3.8.12"
  }
 },
 "nbformat": 4,
 "nbformat_minor": 5
}
