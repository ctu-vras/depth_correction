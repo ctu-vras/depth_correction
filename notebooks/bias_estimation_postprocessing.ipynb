{
 "cells": [
  {
   "cell_type": "code",
   "execution_count": null,
   "id": "21f67bd8",
   "metadata": {},
   "outputs": [],
   "source": [
    "import numpy as np\n",
    "import pandas as pd\n",
    "import matplotlib.pyplot as plt\n",
    "import os"
   ]
  },
  {
   "cell_type": "markdown",
   "id": "f7c95b0e",
   "metadata": {},
   "source": [
    "## Distance to board: 5.3 [m]"
   ]
  },
  {
   "cell_type": "code",
   "execution_count": null,
   "id": "abb00a1a",
   "metadata": {},
   "outputs": [],
   "source": [
    "csvs = ['bias_estimation-point-to-point_black_board_small.csv',\n",
    "        'bias_estimation-point-to-point_white_board_small.csv']"
   ]
  },
  {
   "cell_type": "code",
   "execution_count": null,
   "id": "c1ae8d5c",
   "metadata": {},
   "outputs": [],
   "source": [
    "df = pd.read_csv(csvs[1])"
   ]
  },
  {
   "cell_type": "code",
   "execution_count": null,
   "id": "73a1b2c0",
   "metadata": {},
   "outputs": [],
   "source": [
    "print([k for k, _ in df.items()])"
   ]
  },
  {
   "cell_type": "code",
   "execution_count": null,
   "id": "5b66797f",
   "metadata": {
    "scrolled": true
   },
   "outputs": [],
   "source": [
    "# for f in csvs:\n",
    "#     df = pd.read_csv(f)\n",
    "    \n",
    "#     plt.figure()\n",
    "#     plt.plot(df['Incidence angle [deg]'])\n",
    "#     plt.show()"
   ]
  },
  {
   "cell_type": "code",
   "execution_count": null,
   "id": "95ed9e4a",
   "metadata": {},
   "outputs": [],
   "source": [
    "# df1 = pd.read_csv(csvs[0])\n",
    "# half_id = 26\n",
    "# angles1 = df1['Incidence angle [deg]'][:half_id]\n",
    "# icp_dists1 = df1[' ICP distance [m]'][:half_id]\n",
    "\n",
    "# angles2 = df1['Incidence angle [deg]'][half_id:][::-1]\n",
    "# icp_dists2 = df1[' ICP distance [m]'][half_id:][::-1]\n",
    "\n",
    "# plt.plot(angles1, icp_dists1)\n",
    "# plt.plot(angles2, icp_dists2)\n",
    "# plt.grid()"
   ]
  },
  {
   "cell_type": "code",
   "execution_count": null,
   "id": "84e32352",
   "metadata": {},
   "outputs": [],
   "source": [
    "def interpolate_icp_dists(angles, dists, min_angle=0, max_angle=80, angle_step=1):\n",
    "    \n",
    "    angles_uniform = np.arange(min_angle, max_angle, angle_step)\n",
    "    if angles[0] > angles[-1]:\n",
    "        angles = angles[::-1]\n",
    "        dists = dists[::-1]\n",
    "        \n",
    "    dists_interp = np.interp(angles_uniform, angles, dists)\n",
    "    \n",
    "    if np.min(angles) > min_angle:\n",
    "        dists_interp[angles_uniform < np.min(angles)] = np.nan\n",
    "        \n",
    "    if np.max(angles) < max_angle:\n",
    "        dists_interp[angles_uniform > np.max(angles)] = np.nan\n",
    "\n",
    "    return angles_uniform, dists_interp"
   ]
  },
  {
   "cell_type": "code",
   "execution_count": null,
   "id": "5fcd9e60",
   "metadata": {
    "scrolled": false
   },
   "outputs": [],
   "source": [
    "from scipy.signal import argrelextrema\n",
    "\n",
    "plt.figure(figsize=(10, 10))\n",
    "plt.grid(visible=True)\n",
    "\n",
    "all_angles = []\n",
    "all_icp_dists = []\n",
    "\n",
    "for f in csvs:\n",
    "    df = pd.read_csv(f)\n",
    "    \n",
    "    angles = np.asarray(df['Incidence angle [deg]'])\n",
    "    if np.max(angles) < 0:\n",
    "        angles += 180.\n",
    "    \n",
    "    icp_dists = df[' ICP distance [m]']\n",
    "    icp_dists[icp_dists > 0.20] = np.nan\n",
    "\n",
    "    minimum_ids = argrelextrema(angles, np.less)[0]\n",
    "    maximum_ids = argrelextrema(angles, np.greater)[0]\n",
    "\n",
    "    extremum_ids = np.sort(minimum_ids.tolist() + maximum_ids.tolist()).tolist()   \n",
    "    ids = [0] + extremum_ids + [len(angles)]\n",
    "\n",
    "    for i in range(len(ids)-1):\n",
    "        angles_seq = angles[ids[i]:ids[i+1]]\n",
    "        dists_seq = icp_dists[ids[i]:ids[i+1]]\n",
    "        \n",
    "        angles_interp, dists_interp = interpolate_icp_dists(angles_seq, dists_seq)\n",
    "        assert len(angles_interp) == len(dists_interp)\n",
    "        \n",
    "        plt.plot(angles_interp, dists_interp, '--')\n",
    "        plt.plot(angles_seq, dists_seq, 'x')\n",
    "        \n",
    "        all_angles.append(angles_interp)\n",
    "        all_icp_dists.append(dists_interp)\n",
    "        \n",
    "mean_dists = np.nanmean(all_icp_dists, axis=0)\n",
    "std_dists = np.nanstd(all_icp_dists, axis=0)\n",
    "\n",
    "plt.plot(angles_interp, mean_dists)\n",
    "plt.fill_between(angles_interp, mean_dists - std_dists, mean_dists + std_dists, alpha=0.2)"
   ]
  },
  {
   "cell_type": "code",
   "execution_count": null,
   "id": "828b49db",
   "metadata": {},
   "outputs": [],
   "source": [
    "def mean_bias_estimation(csvs):\n",
    "    all_angles = []\n",
    "    all_icp_dists = []\n",
    "\n",
    "    for f in csvs:\n",
    "        df = pd.read_csv(f)\n",
    "\n",
    "        angles = np.asarray(df['Incidence angle [deg]'])\n",
    "        if np.max(angles) < 0:\n",
    "            angles += 180.\n",
    "\n",
    "        icp_dists = df[' ICP distance [m]']\n",
    "        icp_dists[icp_dists > 0.20] = np.nan\n",
    "\n",
    "        minimum_ids = argrelextrema(angles, np.less)[0]\n",
    "        maximum_ids = argrelextrema(angles, np.greater)[0]\n",
    "\n",
    "        extremum_ids = np.sort(minimum_ids.tolist() + maximum_ids.tolist()).tolist()   \n",
    "        ids = [0] + extremum_ids + [len(angles)]\n",
    "\n",
    "        for i in range(len(ids)-1):\n",
    "            angles_seq = angles[ids[i]:ids[i+1]]\n",
    "            dists_seq = icp_dists[ids[i]:ids[i+1]]\n",
    "\n",
    "            angles_interp, dists_interp = interpolate_icp_dists(angles_seq, dists_seq)\n",
    "            assert len(angles_interp) == len(dists_interp)\n",
    "\n",
    "            all_angles.append(angles_interp)\n",
    "            all_icp_dists.append(dists_interp)\n",
    "\n",
    "    mean_dists = np.nanmean(all_icp_dists, axis=0)\n",
    "    std_dists = np.nanstd(all_icp_dists, axis=0)\n",
    "\n",
    "    return mean_dists, std_dists, angles_interp"
   ]
  },
  {
   "cell_type": "code",
   "execution_count": null,
   "id": "f8a59107",
   "metadata": {},
   "outputs": [],
   "source": [
    "plt.rcParams.update({'font.size': 22})\n",
    "plt.figure(figsize=(20, 10))\n",
    "plt.grid()\n",
    "# plt.ylim([0, 0.20])\n",
    "# plt.xlim([0, 90])\n",
    "plt.ylabel('ICP point-to-point distance [m]')\n",
    "plt.xlabel('Incidence angle [deg]')\n",
    "\n",
    "for f in csvs:\n",
    "    mean_dists, std_dists, angles_interp = mean_bias_estimation(csvs=[f])\n",
    "\n",
    "    plt.plot(angles_interp, mean_dists, label=f)\n",
    "    plt.fill_between(angles_interp, mean_dists - std_dists, mean_dists + std_dists, alpha=0.2)\n",
    "    plt.legend()"
   ]
  },
  {
   "cell_type": "markdown",
   "id": "b2c70429",
   "metadata": {},
   "source": [
    "## Distance to board: 5.3 and 8.6 [m]"
   ]
  },
  {
   "cell_type": "code",
   "execution_count": null,
   "id": "63325867",
   "metadata": {},
   "outputs": [],
   "source": [
    "csvs = ['bias_estimation-point-to-point_black_board_big.csv',\n",
    "        'bias_estimation-point-to-point_white_board_big.csv',\n",
    "        'bias_estimation-point-to-point_black_board_small.csv',\n",
    "        'bias_estimation-point-to-point_white_board_small.csv']"
   ]
  },
  {
   "cell_type": "code",
   "execution_count": null,
   "id": "5deb7e19",
   "metadata": {},
   "outputs": [],
   "source": [
    "# for f in csvs:\n",
    "#     df = pd.read_csv(f)\n",
    "    \n",
    "#     plt.figure()\n",
    "#     plt.plot(df['Incidence angle [deg]'])\n",
    "#     plt.show()"
   ]
  },
  {
   "cell_type": "code",
   "execution_count": null,
   "id": "bafcf30a",
   "metadata": {},
   "outputs": [],
   "source": [
    "plt.rcParams.update({'font.size': 22})\n",
    "plt.figure(figsize=(20, 10))\n",
    "plt.grid()\n",
    "# plt.ylim([0, 0.20])\n",
    "# plt.xlim([0, 90])\n",
    "plt.ylabel('ICP point-to-point distance [m]')\n",
    "plt.xlabel('Incidence angle [deg]')\n",
    "\n",
    "def fname2label(fname):\n",
    "    label_pattern = '{distance}m_dist_{board_side}_board'\n",
    "    distance = 5.3 if 'small' in fname else 8.6\n",
    "    board_side = 'white' if 'white' in fname else 'black'\n",
    "    label = label_pattern.format(distance=distance, board_side=board_side)\n",
    "    return label\n",
    "\n",
    "for f in csvs:\n",
    "    mean_dists, std_dists, angles_interp = mean_bias_estimation(csvs=[f])\n",
    "\n",
    "    plt.plot(angles_interp, mean_dists, label=fname2label(f))\n",
    "    plt.fill_between(angles_interp, mean_dists - std_dists, mean_dists + std_dists, alpha=0.2)\n",
    "    plt.legend()"
   ]
  }
 ],
 "metadata": {
  "kernelspec": {
   "display_name": "Python 3 (ipykernel)",
   "language": "python",
   "name": "python3"
  },
  "language_info": {
   "codemirror_mode": {
    "name": "ipython",
    "version": 3
   },
   "file_extension": ".py",
   "mimetype": "text/x-python",
   "name": "python",
   "nbconvert_exporter": "python",
   "pygments_lexer": "ipython3",
   "version": "3.8.10"
  }
 },
 "nbformat": 4,
 "nbformat_minor": 5
}
