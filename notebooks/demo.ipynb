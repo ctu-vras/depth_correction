{
 "cells": [
  {
   "cell_type": "code",
   "execution_count": null,
   "id": "99b626cf",
   "metadata": {},
   "outputs": [],
   "source": [
    "import matplotlib.pyplot as plt\n",
    "import matplotlib\n",
    "import numpy as np"
   ]
  },
  {
   "cell_type": "code",
   "execution_count": null,
   "id": "04f479fc",
   "metadata": {},
   "outputs": [],
   "source": [
    "img = plt.imread('../docs/imgs/semantic_kitti_seqs.png')"
   ]
  },
  {
   "cell_type": "code",
   "execution_count": null,
   "id": "06b50614",
   "metadata": {},
   "outputs": [],
   "source": [
    "img.shape"
   ]
  },
  {
   "cell_type": "code",
   "execution_count": null,
   "id": "0fdbd09b",
   "metadata": {},
   "outputs": [],
   "source": [
    "from data.semantic_kitti import dataset_names"
   ]
  },
  {
   "cell_type": "code",
   "execution_count": null,
   "id": "efdf1ccc",
   "metadata": {},
   "outputs": [],
   "source": [
    "#!xrandr | grep -w connected"
   ]
  },
  {
   "cell_type": "code",
   "execution_count": null,
   "id": "0f0420da",
   "metadata": {},
   "outputs": [],
   "source": [
    "w_cm, h_cm = 34.4, 19.3\n",
    "w_ic, h_ic = w_cm / 2.54, h_cm / 2.54"
   ]
  },
  {
   "cell_type": "code",
   "execution_count": null,
   "id": "65728977",
   "metadata": {},
   "outputs": [],
   "source": [
    "1920 / w_ic, 1080 / h_ic"
   ]
  },
  {
   "cell_type": "code",
   "execution_count": null,
   "id": "55b72ceb",
   "metadata": {},
   "outputs": [],
   "source": [
    "DPI = 142\n",
    "matplotlib.rcParams.update({'font.size': 12})\n",
    "\n",
    "plt.figure(figsize=(img.shape[1]/DPI, img.shape[0]/DPI), dpi=DPI)\n",
    "# plt.grid()\n",
    "plt.axis('off')\n",
    "plt.imshow(img)\n",
    "\n",
    "x, y = 50, 400\n",
    "for i, name in enumerate(np.sort(dataset_names)):\n",
    "    for s in ['_start_', '_end_', '_step_']:\n",
    "        name = name.replace(s, '_')\n",
    "    name = name[:-2]\n",
    "    seq_n, start, end = name.split('_')\n",
    "    name = 'sequence %s \\n(start: %s, end: %s)' % (seq_n, start, end) \n",
    "    \n",
    "    plt.text(x, y, name, bbox=dict(fill=False, edgecolor=None, linewidth=0))\n",
    "    \n",
    "    if i == len(dataset_names) / 2 - 1:\n",
    "        y += 400\n",
    "        x = -400\n",
    "    x += 450\n",
    "\n",
    "plt.savefig('../docs/imgs/semantic_kitti_seqs_labeled.png', dpi=DPI)"
   ]
  },
  {
   "cell_type": "code",
   "execution_count": null,
   "id": "ca5ac16b",
   "metadata": {},
   "outputs": [],
   "source": [
    "import torch\n",
    "import open3d as o3d\n",
    "import numpy as np\n",
    "import matplotlib.pyplot as plt"
   ]
  },
  {
   "cell_type": "code",
   "execution_count": null,
   "id": "8d3a3486",
   "metadata": {},
   "outputs": [],
   "source": [
    "N = 100\n",
    "z = 1.0\n",
    "\n",
    "# pts = 10*np.random.random((N, 3))-5\n",
    "pts = 10*torch.rand((3, N))-5\n",
    "pts[2, :] = z"
   ]
  },
  {
   "cell_type": "code",
   "execution_count": null,
   "id": "c5a51819",
   "metadata": {},
   "outputs": [],
   "source": [
    "pcd = o3d.geometry.PointCloud()\n",
    "pcd.points = o3d.utility.Vector3dVector(pts.transpose(1, 0))\n",
    "o3d.visualization.draw_geometries([pcd])"
   ]
  },
  {
   "cell_type": "code",
   "execution_count": null,
   "id": "039a5234",
   "metadata": {},
   "outputs": [],
   "source": [
    "cov = torch.cov(pts)\n",
    "eigvals = torch.linalg.eigvalsh(cov)"
   ]
  },
  {
   "cell_type": "code",
   "execution_count": null,
   "id": "24a0f38f",
   "metadata": {},
   "outputs": [],
   "source": [
    "eigvals"
   ]
  },
  {
   "cell_type": "code",
   "execution_count": null,
   "id": "3b4d9520",
   "metadata": {},
   "outputs": [],
   "source": [
    "torch.abs(eigvals)"
   ]
  },
  {
   "cell_type": "markdown",
   "id": "94ac733f",
   "metadata": {},
   "source": [
    "### KITTI"
   ]
  },
  {
   "cell_type": "code",
   "execution_count": null,
   "id": "2273b8bb",
   "metadata": {},
   "outputs": [],
   "source": [
    "import os\n",
    "from glob import glob\n",
    "import subprocess\n",
    "# !pip install sh\n",
    "import sh"
   ]
  },
  {
   "cell_type": "code",
   "execution_count": null,
   "id": "63f0115f",
   "metadata": {},
   "outputs": [],
   "source": [
    "#subprocess.run([\"cat\", \"../gen/semantic_kitti_d1-25_g0.20/ground_truth_Polynomial_r0.40_none_min_eigval_loss/split_0/train_and_eval.out\", \"|\", \"grep\", \"saved\"])"
   ]
  },
  {
   "cell_type": "code",
   "execution_count": null,
   "id": "0b6d6abf",
   "metadata": {},
   "outputs": [],
   "source": [
    "#out = os.system(\"cat '../gen/semantic_kitti_d1-25_g0.20/ground_truth_Polynomial_r0.40_none_min_eigval_loss/split_0/train_and_eval.out' | grep ') saved' | tail -n 1\")"
   ]
  },
  {
   "cell_type": "code",
   "execution_count": null,
   "id": "12e74e6b",
   "metadata": {
    "scrolled": false
   },
   "outputs": [],
   "source": [
    "def plot_models(expr_dir):\n",
    "    # expr_dir = '../gen/asl_laser_d1-15_g0.10'\n",
    "    experiments = [e for e in os.listdir(expr_dir) if 'Polynomial' in e]\n",
    "    if len(experiments) == 0:\n",
    "        print('No experiments to evaluate')\n",
    "\n",
    "    for expr in experiments:\n",
    "        ps = []\n",
    "        for out_file in glob('%s/%s/split_*/train_and_eval.out' % (expr_dir, expr)):\n",
    "            out_str = str(sh.tail(sh.grep(sh.cat(out_file), ') saved'), '-n 1'))\n",
    "\n",
    "            l, r = out_str.find('('), out_str.find(')')\n",
    "            params = out_str[l+1:r]\n",
    "            p1, p2 = params.split(',')\n",
    "            p1, p2 = float(p1), float(p2)\n",
    "\n",
    "            ps.append([p1, p2])\n",
    "\n",
    "        angle = np.linspace(0, np.pi/2, 100)\n",
    "\n",
    "        plt.figure()\n",
    "        plt.title(expr)\n",
    "        plt.grid()\n",
    "        plt.xlabel('alpha, [deg]')\n",
    "        plt.ylabel('depth bias')\n",
    "        # plt.axis('equal')\n",
    "        for p in ps:\n",
    "            p1, p2 = p\n",
    "            depth = 1 * (1 - p1*angle**2 - p2*angle**4)\n",
    "\n",
    "            plt.plot(np.rad2deg(angle), depth, label='p1=%f, p2=%f'%(p1, p2))\n",
    "        plt.legend()\n",
    "        name = ('asl_' + expr if 'asl' in expr_dir else 'kitti_' + expr) + '.png'\n",
    "        plt.savefig(name)\n",
    "        plt.show()\n",
    "        plt.close()"
   ]
  },
  {
   "cell_type": "code",
   "execution_count": null,
   "id": "fed35667",
   "metadata": {
    "scrolled": false
   },
   "outputs": [],
   "source": [
    "plot_models(expr_dir='../gen/semantic_kitti_d1-25_g0.20/')"
   ]
  },
  {
   "cell_type": "markdown",
   "id": "86b7120b",
   "metadata": {},
   "source": [
    "### ASL"
   ]
  },
  {
   "cell_type": "code",
   "execution_count": null,
   "id": "42af2247",
   "metadata": {
    "scrolled": false
   },
   "outputs": [],
   "source": [
    "plot_models(expr_dir='../gen/asl_laser_d1-15_g0.10/')"
   ]
  },
  {
   "cell_type": "code",
   "execution_count": null,
   "id": "b8f45c26",
   "metadata": {
    "pycharm": {
     "is_executing": true,
     "name": "#%%\n"
    }
   },
   "outputs": [],
   "source": [
    "from depth_correction.config import Config\n",
    "from depth_correction.depth_cloud import DepthCloud\n",
    "from depth_correction.model import load_model\n",
    "from glob import glob\n",
    "import matplotlib.pyplot as plt\n",
    "import numpy as np\n",
    "import os\n",
    "import torch\n",
    "\n",
    "\n",
    "def plot_models(expr_dir):\n",
    "    experiments = glob(os.path.join(expr_dir, '*Polynomial*', 'split*', 'best.yaml'))\n",
    "    if len(experiments) == 0:\n",
    "        print('No experiments to evaluate')\n",
    "\n",
    "    n_pts = 100\n",
    "    cloud = DepthCloud.from_points(torch.ones((n_pts, 3)) / torch.sqrt(torch.tensor(3.0)))\n",
    "    cloud.inc_angles = torch.as_tensor(np.linspace(0, np.pi/2, n_pts))[:, None]\n",
    "\n",
    "    groups = {}\n",
    "    group_prefix = {}\n",
    "    for expr in experiments:\n",
    "        path_parts = os.path.normpath(expr).split(os.path.sep)\n",
    "        group = path_parts[-3]\n",
    "        group_prefix[group] = os.path.join(*path_parts[:-4])\n",
    "        cfg = Config()\n",
    "        cfg.from_yaml(expr)\n",
    "        model = load_model(cfg=cfg)\n",
    "        groups.setdefault(group, []).append(model)\n",
    "\n",
    "    print('%i groups in total.' % len(groups))\n",
    "    for group, models in groups.items():\n",
    "        print('%s (%i experiments)' % (group, len(models)))\n",
    "        plt.figure()\n",
    "        plt.title(group)\n",
    "        for model in models:\n",
    "            with torch.no_grad():\n",
    "                plt.plot(np.rad2deg(cloud.inc_angles.numpy()).flatten(),\n",
    "                         model(cloud).depth.numpy().flatten(),\n",
    "                         label=str(model))\n",
    "        plt.grid()\n",
    "        plt.xlabel('incidence angle [deg]')\n",
    "        plt.ylabel('depth [m]')\n",
    "        plt.legend()\n",
    "        # name = ('asl_' + expr if 'asl' in expr_dir else 'kitti_' + expr) + '.png'\n",
    "        # plt.savefig(name)\n",
    "        plt.show()\n",
    "        # plt.close()\n",
    "\n",
    "plot_models(expr_dir='../gen/asl_laser_d1-15_g0.10_s0.0175_0.0873-nan/')"
   ]
  }
 ],
 "metadata": {
  "kernelspec": {
   "display_name": "Python 3 (ipykernel)",
   "language": "python",
   "name": "python3"
  },
  "language_info": {
   "codemirror_mode": {
    "name": "ipython",
    "version": 3
   },
   "file_extension": ".py",
   "mimetype": "text/x-python",
   "name": "python",
   "nbconvert_exporter": "python",
   "pygments_lexer": "ipython3",
   "version": "3.8.10"
  }
 },
 "nbformat": 4,
 "nbformat_minor": 5
}
