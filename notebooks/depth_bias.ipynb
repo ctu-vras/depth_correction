{
 "cells": [
  {
   "cell_type": "markdown",
   "metadata": {
    "collapsed": true,
    "pycharm": {
     "name": "#%% md\n"
    }
   },
   "source": [
    "# Depth Bias Analysis"
   ]
  },
  {
   "cell_type": "code",
   "execution_count": null,
   "outputs": [],
   "source": [
    "# Results\n",
    "\n",
    "# apartment[[0, 5, 10, 15, 20, 25, 30, 35, 40]]\n",
    "# Distance to Plane [m] to Incidence Angle (deg. 1 fit): poly([-0.00402863  0.00198255])\n",
    "# Distance to Plane / Depth to Incidence Angle (deg. 1 fit): poly([-0.00127849  0.00051986])\n",
    "# Distance to Plane / Depth to 1 / Incidence Angle Cosine (deg. 1 fit): poly([-8.41913328e-04  5.15523231e-20])\n",
    "\n",
    "# eth[[0, 5, 10, 15, 20, 25, 30, 35]]\n",
    "# Distance to Plane [m] to Incidence Angle (deg. 1 fit): poly([ 0.00193905 -0.00254346])\n",
    "# Distance to Plane / Depth to Incidence Angle (deg. 1 fit): poly([ 0.00066698 -0.00070023])\n",
    "# Distance to Plane / Depth to 1 / Incidence Angle Cosine (deg. 1 fit): poly([ 1.01255097e-04 -6.20008654e-21])\n",
    "\n",
    "# gazebo_winter[[0, 5, 10, 15, 20, 25, 30]]\n",
    "# Distance to Plane [m] to Incidence Angle (deg. 1 fit): poly([0.00015854 0.00017461])\n",
    "# Distance to Plane / Depth to Incidence Angle (deg. 1 fit): poly([ 2.65784234e-04 -1.92807751e-05])\n",
    "# Distance to Plane / Depth to 1 / Incidence Angle Cosine (deg. 1 fit): poly([ 2.50168305e-04 -1.53183907e-20])\n",
    "\n",
    "# stairs[[0, 5, 10, 15, 20, 25, 30]]\n",
    "# Distance to Plane [m] to Incidence Angle (deg. 1 fit): poly([-0.0016521   0.00064674])\n",
    "# Distance to Plane / Depth to Incidence Angle (deg. 1 fit): poly([-2.13034350e-04 -4.96068873e-05])\n",
    "# Distance to Plane / Depth to 1 / Incidence Angle Cosine (deg. 1 fit): poly([-2.57433793e-04  1.57632735e-20])"
   ],
   "metadata": {
    "collapsed": false,
    "pycharm": {
     "name": "#%%\n"
    }
   }
  },
  {
   "cell_type": "code",
   "execution_count": null,
   "metadata": {
    "pycharm": {
     "name": "#%%\n"
    }
   },
   "outputs": [],
   "source": [
    "# Imports\n",
    "\n",
    "from __future__ import absolute_import, division, print_function\n",
    "from data.asl_laser import Dataset, dataset_names\n",
    "from depth_correction.depth_cloud import DepthCloud\n",
    "from depth_correction.filters import filter_eigenvalue, filter_depth, filter_grid\n",
    "from depth_correction.loss import reduce\n",
    "from depth_correction.nearest_neighbors import nearest_neighbors\n",
    "import matplotlib.pyplot as plt\n",
    "import numpy as np\n",
    "from numpy.polynomial import Polynomial\n",
    "import torch\n",
    "from timeit import default_timer as timer"
   ]
  },
  {
   "cell_type": "code",
   "execution_count": null,
   "metadata": {
    "pycharm": {
     "name": "#%%\n"
    }
   },
   "outputs": [],
   "source": [
    "# Data preprocessing and analysis params\n",
    "\n",
    "clouds = []\n",
    "poses = []\n",
    "# ds = Dataset('apartment')\n",
    "# ds = Dataset('eth')\n",
    "# ds = Dataset('gazebo_summer')\n",
    "# ds = Dataset('gazebo_winter')\n",
    "ds = Dataset('stairs')\n",
    "ids = ds.ids[::5]\n",
    "\n",
    "min_depth = 1.0\n",
    "max_depth = 15.0\n",
    "grid_res = 0.05\n",
    "k = None\n",
    "# k = 9\n",
    "# r = None\n",
    "# r = 0.15\n",
    "r = 3 * grid_res\n",
    "\n",
    "figsize = 6.4, 6.4"
   ]
  },
  {
   "cell_type": "code",
   "execution_count": null,
   "metadata": {
    "pycharm": {
     "name": "#%%\n"
    }
   },
   "outputs": [],
   "source": [
    "# Functions and helpers\n",
    "\n",
    "# Fit models dependent on incidence angle\n",
    "def domain(model, n=100):\n",
    "    if isinstance(model, Polynomial):\n",
    "        return np.linspace(model.domain[0], model.domain[1], n)\n",
    "    if isinstance(model, np.ndarray):\n",
    "        return np.linspace(np.nanmin(model), np.nanmax(model), n)\n",
    "    raise ValueError('Invalid domain input, only polynomial or data sample is supported.')\n",
    "\n",
    "def lims(x):\n",
    "    return np.nanquantile(x, [0.001, 0.999])\n",
    "\n",
    "import matplotlib.pyplot as plt\n",
    "# figsize = 8.27, 8.27\n",
    "figsize = 6.4, 6.4\n",
    "\n",
    "def plot_fit(x, y, x_label='x', y_label='y', x_lims=None, y_lims=None):\n",
    "    if x_lims is None:\n",
    "        x_lims = lims(x)\n",
    "    if y_lims is None:\n",
    "        y_lims = lims(y)\n",
    "    poly1 = Polynomial.fit(x, y, 1).convert()\n",
    "    poly2 = Polynomial.fit(x, y, 2).convert()\n",
    "    print('%s to %s (deg. 1 fit): %s' % (y_label, x_label, poly1))\n",
    "    # print('%s to %s (deg. 2 fit): %s' % (y_label, x_label, poly2))\n",
    "    # xs = domain(poly1)\n",
    "    xs = domain(x)\n",
    "    fig, ax = plt.subplots(1, 1, figsize=figsize)\n",
    "    ax.plot(x, y, '.', markersize=1, label='data')\n",
    "    ax.plot(xs, poly1(xs), 'r-', linewidth=1, label='fit deg. 1')\n",
    "    ax.plot(xs, poly2(xs), 'g--', linewidth=1, label='fit deg. 2')\n",
    "    ax.set_xlim(x_lims)\n",
    "    ax.set_ylim(y_lims)\n",
    "    ax.set_xlabel(x_label)\n",
    "    ax.set_ylabel(y_label)\n",
    "    ax.grid(True)\n",
    "    ax.legend()\n",
    "    fig.tight_layout()\n",
    "    fig.show()\n",
    "    # print(np.nanquantile(x, np.linspace(0.0, 1.0, 10)))\n",
    "    # print(np.nanquantile(y, np.linspace(0.0, 1.0, 10)))"
   ]
  },
  {
   "cell_type": "code",
   "execution_count": null,
   "metadata": {
    "pycharm": {
     "name": "#%%\n"
    }
   },
   "outputs": [],
   "source": [
    "# Depth bias estimation\n",
    "\n",
    "for id in ids:\n",
    "    t = timer()\n",
    "    cloud = ds.local_cloud(id)\n",
    "    pose = torch.tensor(ds.cloud_pose(id))\n",
    "    dc = DepthCloud.from_points(cloud)\n",
    "    # print('%i points read from dataset %s, cloud %i (%.3f s).'\n",
    "    #       % (dc.size(), ds.name, id, timer() - t))\n",
    "\n",
    "    dc = filter_depth(dc, min=min_depth, max=max_depth, log=False)\n",
    "\n",
    "    t = timer()\n",
    "    dc = filter_grid(dc, grid_res, keep='last')\n",
    "    # print('%i points kept by grid filter with res. %.2f m (%.3f s).'\n",
    "    #       % (dc.size(), grid_res, timer() - t))\n",
    "\n",
    "    dc = dc.transform(pose)\n",
    "    dc.update_all(k=k, r=r)\n",
    "    # keep = filter_eigenvalue(dc, 0, max=(grid_res / 5)**2, only_mask=True)\n",
    "    # keep = keep & filter_eigenvalue(dc, 1, min=grid_res**2, only_mask=True)\n",
    "    # dc = dc[keep]\n",
    "    # dc.update_all(r=r)\n",
    "\n",
    "    clouds.append(dc)\n",
    "    poses.append(pose)\n",
    "\n",
    "dc = DepthCloud.concatenate(clouds, True)\n",
    "# dc.visualize(colors='inc_angles')\n",
    "# dc.visualize(colors='z')\n",
    "\n",
    "dc.update_all(k=k, r=r)\n",
    "\n",
    "# Visualize incidence angle to plane distance.\n",
    "# TODO: Compare using plane fit for low incidence angle.\n",
    "depth = dc.depth.detach().numpy().ravel()\n",
    "inc = dc.inc_angles.detach().numpy().ravel()\n",
    "# scaled_inc = depth * inc\n",
    "inv_cos = 1.0 / np.cos(inc)\n",
    "# scaled_inv_cos = depth * inv_cos\n",
    "# dist = dc.normals.inner(dc.points - dc.mean)\n",
    "dist = (dc.normals * (dc.points - dc.mean)).sum(dim=1).detach().numpy().ravel()\n",
    "norm_dist = dist / depth\n",
    "\n",
    "print('%s[%s]' % (ds.name, ids))\n",
    "\n",
    "plot_fit(inc, dist,\n",
    "         'Incidence Angle', 'Distance to Plane [m]')\n",
    "plot_fit(inc, norm_dist,\n",
    "         'Incidence Angle', 'Distance to Plane / Depth')\n",
    "plot_fit(inv_cos, norm_dist,\n",
    "         '1 / Incidence Angle Cosine', 'Distance to Plane / Depth',\n",
    "         x_lims=[1.0, 11.47])"
   ]
  }
 ],
 "metadata": {
  "kernelspec": {
   "display_name": "PyCharm (depth_correction)",
   "language": "python",
   "name": "pycharm-c52951cb"
  },
  "language_info": {
   "codemirror_mode": {
    "name": "ipython",
    "version": 3
   },
   "file_extension": ".py",
   "mimetype": "text/x-python",
   "name": "python",
   "nbconvert_exporter": "python",
   "pygments_lexer": "ipython3",
   "version": "3.8.10"
  }
 },
 "nbformat": 4,
 "nbformat_minor": 1
}