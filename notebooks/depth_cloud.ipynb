{
 "cells": [
  {
   "cell_type": "code",
   "execution_count": null,
   "id": "757ad5fd",
   "metadata": {},
   "outputs": [],
   "source": [
    "import torch\n",
    "import numpy as np\n",
    "import open3d as o3d\n",
    "import sys\n",
    "sys.path.append('../src/')\n",
    "import os\n",
    "\n",
    "# only needed for tutorial, monkey patches visualization\n",
    "sys.path.append('/home/ruslan/subt/thirdparty/Open3D/examples/python/')\n",
    "import open3d_tutorial as o3dtut\n",
    "# change to True if you want to interact with the visualization windows\n",
    "o3dtut.interactive = not \"CI\" in os.environ"
   ]
  },
  {
   "cell_type": "markdown",
   "id": "2bdc4991",
   "metadata": {},
   "source": [
    "### Load data"
   ]
  },
  {
   "cell_type": "code",
   "execution_count": null,
   "id": "b73b28d3",
   "metadata": {},
   "outputs": [],
   "source": [
    "from depth_correction.depth_cloud import DepthCloud\n",
    "sys.path.append('/home/ruslan/datasets/data/python/data/')\n",
    "from asl_laser import Dataset\n",
    "\n",
    "sequences_names = [\n",
    "    'apartment',\n",
    "    'eth',\n",
    "    'gazebo_winter',\n",
    "    'gazebo_summer',\n",
    "    'plain',\n",
    "    'stairs',\n",
    "    'wood_summer',\n",
    "    'wood_autumn'\n",
    "]\n",
    "\n",
    "data_path = '/home/ruslan/datasets/data/asl_laser/'\n",
    "\n",
    "data = Dataset(path=os.path.join(data_path, sequences_names[0]))\n",
    "\n",
    "points = torch.as_tensor(data.local_cloud(id=0)[::20, :])\n",
    "dc = DepthCloud.from_points(pts=points)\n",
    "torch.allclose(points, dc.to_points())"
   ]
  },
  {
   "cell_type": "markdown",
   "id": "43e497d2",
   "metadata": {},
   "source": [
    "### Visualize point cloud"
   ]
  },
  {
   "cell_type": "markdown",
   "id": "2c7c4855",
   "metadata": {},
   "source": [
    "### Estimate normals"
   ]
  },
  {
   "cell_type": "code",
   "execution_count": null,
   "id": "6e00533d",
   "metadata": {},
   "outputs": [],
   "source": [
    "dc.estimate_normals()\n",
    "# dc.estimate_incidence_angles()\n",
    "\n",
    "# dc.visualize(normals=True)"
   ]
  },
  {
   "cell_type": "markdown",
   "id": "e8c58b5e",
   "metadata": {},
   "source": [
    "### Convert to mesh"
   ]
  },
  {
   "cell_type": "code",
   "execution_count": null,
   "id": "551cfccb",
   "metadata": {},
   "outputs": [],
   "source": [
    "mesh_o3d = dc.to_mesh()\n",
    "\n",
    "o3d.visualization.draw_geometries([mesh_o3d])"
   ]
  },
  {
   "cell_type": "code",
   "execution_count": null,
   "id": "cf46dc13",
   "metadata": {},
   "outputs": [],
   "source": [
    "mesh = dc.to_pytorch3d_mesh()"
   ]
  },
  {
   "cell_type": "code",
   "execution_count": null,
   "id": "1834448c",
   "metadata": {},
   "outputs": [],
   "source": [
    "from pytorch3d.ops import sample_points_from_meshes\n",
    "import matplotlib.pyplot as plt\n",
    "from mpl_toolkits.mplot3d import Axes3D\n",
    "\n",
    "\n",
    "def plot_pointcloud(mesh, title=\"\"):\n",
    "    # Sample points uniformly from the surface of the mesh.\n",
    "    points = sample_points_from_meshes(mesh, 5000)\n",
    "    x, y, z = points.clone().detach().cpu().squeeze().unbind(1)    \n",
    "    fig = plt.figure(figsize=(5, 5))\n",
    "    ax = Axes3D(fig)\n",
    "    ax.scatter3D(x, z, -y)\n",
    "    ax.set_xlabel('x')\n",
    "    ax.set_ylabel('z')\n",
    "    ax.set_zlabel('y')\n",
    "    ax.set_title(title)\n",
    "    ax.view_init(190, 30)\n",
    "    plt.show()"
   ]
  },
  {
   "cell_type": "code",
   "execution_count": null,
   "id": "1a901e48",
   "metadata": {},
   "outputs": [],
   "source": [
    "plot_pointcloud(mesh)"
   ]
  },
  {
   "cell_type": "markdown",
   "id": "e0f43726",
   "metadata": {},
   "source": [
    "### Mesh consistency metrics"
   ]
  },
  {
   "cell_type": "code",
   "execution_count": null,
   "id": "4f15adc2",
   "metadata": {},
   "outputs": [],
   "source": [
    "from pytorch3d.loss import (\n",
    "    chamfer_distance, \n",
    "    mesh_edge_loss, \n",
    "    mesh_laplacian_smoothing, \n",
    "    mesh_normal_consistency,\n",
    ")"
   ]
  },
  {
   "cell_type": "code",
   "execution_count": null,
   "id": "609aa05e",
   "metadata": {},
   "outputs": [],
   "source": [
    "with torch.no_grad():\n",
    "    # and (b) the edge length of the predicted mesh\n",
    "    loss_edge = mesh_edge_loss(mesh)\n",
    "    \n",
    "    # mesh normal consistency\n",
    "    loss_normal = mesh_normal_consistency(mesh)\n",
    "    \n",
    "    # mesh laplacian smoothing\n",
    "    loss_laplacian = mesh_laplacian_smoothing(mesh, method=\"uniform\")\n",
    "    \n",
    "    print('Edge length regularization:', loss_edge)\n",
    "    print('Normals consistency:', loss_normal)\n",
    "    print('Laplacian smoothing', loss_laplacian)"
   ]
  }
 ],
 "metadata": {
  "kernelspec": {
   "display_name": "Python 3 (ipykernel)",
   "language": "python",
   "name": "python3"
  },
  "language_info": {
   "codemirror_mode": {
    "name": "ipython",
    "version": 3
   },
   "file_extension": ".py",
   "mimetype": "text/x-python",
   "name": "python",
   "nbconvert_exporter": "python",
   "pygments_lexer": "ipython3",
   "version": "3.8.8"
  }
 },
 "nbformat": 4,
 "nbformat_minor": 5
}
