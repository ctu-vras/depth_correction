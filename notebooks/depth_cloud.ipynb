{
 "cells": [
  {
   "cell_type": "code",
   "execution_count": null,
   "id": "757ad5fd",
   "metadata": {},
   "outputs": [],
   "source": [
    "import torch\n",
    "import open3d as o3d\n",
    "import sys\n",
    "sys.path.append('../src/')\n",
    "import os\n",
    "from data.asl_laser import Dataset\n",
    "\n",
    "# only needed for tutorial, monkey patches visualization\n",
    "sys.path.append('/home/ruslan/subt/thirdparty/Open3D/examples/python/')\n",
    "import open3d_tutorial as o3dtut\n",
    "# change to True if you want to interact with the visualization windows\n",
    "o3dtut.interactive = not \"CI\" in os.environ"
   ]
  },
  {
   "cell_type": "markdown",
   "id": "2bdc4991",
   "metadata": {},
   "source": [
    "### Load data"
   ]
  },
  {
   "cell_type": "code",
   "execution_count": null,
   "id": "b73b28d3",
   "metadata": {},
   "outputs": [],
   "source": [
    "from depth_correction.depth_cloud import depth_cloud_from_points\n",
    "\n",
    "sequences_names = [\n",
    "    'apartment',\n",
    "    'eth',\n",
    "    'gazebo_winter',\n",
    "    'gazebo_summer',\n",
    "    'plain',\n",
    "    'stairs',\n",
    "    'wood_summer',\n",
    "    'wood_autumn'\n",
    "]\n",
    "\n",
    "data_path = '/home/ruslan/datasets/data/asl_laser/'\n",
    "\n",
    "data = Dataset(path=os.path.join(data_path, sequences_names[0]))\n",
    "\n",
    "points = torch.as_tensor(data.local_cloud(id=0)[::50, :], dtype=torch.float32)\n",
    "dc = depth_cloud_from_points(pts=points)\n",
    "torch.allclose(points, dc.to_points())"
   ]
  },
  {
   "cell_type": "markdown",
   "id": "43e497d2",
   "metadata": {},
   "source": [
    "### Visualize point cloud"
   ]
  },
  {
   "cell_type": "code",
   "execution_count": null,
   "id": "ffdf7569",
   "metadata": {},
   "outputs": [],
   "source": [
    "dc.visualize()"
   ]
  },
  {
   "cell_type": "markdown",
   "id": "2c7c4855",
   "metadata": {},
   "source": [
    "### Estimate normals"
   ]
  },
  {
   "cell_type": "code",
   "execution_count": null,
   "id": "6e00533d",
   "metadata": {},
   "outputs": [],
   "source": [
    "dc.estimate_normals()\n",
    "# dc.estimate_incidence_angles()\n",
    "\n",
    "dc.visualize(normals=True)"
   ]
  }
 ],
 "metadata": {
  "kernelspec": {
   "display_name": "Python 3 (ipykernel)",
   "language": "python",
   "name": "python3"
  },
  "language_info": {
   "codemirror_mode": {
    "name": "ipython",
    "version": 3
   },
   "file_extension": ".py",
   "mimetype": "text/x-python",
   "name": "python",
   "nbconvert_exporter": "python",
   "pygments_lexer": "ipython3",
   "version": "3.8.8"
  }
 },
 "nbformat": 4,
 "nbformat_minor": 5
}
