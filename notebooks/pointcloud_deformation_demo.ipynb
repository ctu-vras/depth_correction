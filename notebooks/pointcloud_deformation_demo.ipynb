{
 "cells": [
  {
   "cell_type": "code",
   "execution_count": null,
   "id": "757ad5fd",
   "metadata": {},
   "outputs": [],
   "source": [
    "import torch\n",
    "import numpy as np\n",
    "import open3d as o3d\n",
    "import sys\n",
    "sys.path.append('../src/')\n",
    "import os\n",
    "sys.path.append('/home/ruslan/datasets/data/python/data/')\n",
    "from asl_laser import Dataset\n",
    "\n",
    "# only needed for tutorial, monkey patches visualization\n",
    "sys.path.append('/home/ruslan/subt/thirdparty/Open3D/examples/python/')\n",
    "import open3d_tutorial as o3dtut\n",
    "# change to True if you want to interact with the visualization windows\n",
    "o3dtut.interactive = not \"CI\" in os.environ"
   ]
  },
  {
   "cell_type": "markdown",
   "id": "cc890211",
   "metadata": {},
   "source": [
    "### Load data"
   ]
  },
  {
   "cell_type": "code",
   "execution_count": null,
   "id": "b73b28d3",
   "metadata": {},
   "outputs": [],
   "source": [
    "from depth_correction.depth_cloud import DepthCloud\n",
    "\n",
    "sequences_names = [\n",
    "    'apartment',\n",
    "    'eth',\n",
    "    'gazebo_winter',\n",
    "    'gazebo_summer',\n",
    "    'plain',\n",
    "    'stairs',\n",
    "    'wood_summer',\n",
    "    'wood_autumn'\n",
    "]\n",
    "\n",
    "data_path = '/home/ruslan/datasets/data/asl_laser/'\n",
    "\n",
    "data = Dataset(path=os.path.join(data_path, sequences_names[0]))\n",
    "\n",
    "points = torch.as_tensor(data.local_cloud(id=0)[::50, :])\n",
    "dc = DepthCloud.from_points(pts=points)\n",
    "\n",
    "# we need incidence angles for depth correction\n",
    "dc.estimate_incidence_angles()"
   ]
  },
  {
   "cell_type": "markdown",
   "id": "14e460e2",
   "metadata": {},
   "source": [
    "### Create model"
   ]
  },
  {
   "cell_type": "code",
   "execution_count": null,
   "id": "de0d4065",
   "metadata": {},
   "outputs": [],
   "source": [
    "from depth_correction.model import Linear, Polynomial\n",
    "\n",
    "model = Polynomial()\n",
    "# model = Linear()\n",
    "\n",
    "# The optimizer\n",
    "optimizer = torch.optim.Adam(model.parameters(), lr=0.01)\n",
    "\n",
    "device = torch.device('cuda:0')\n",
    "model = model.to(device)\n",
    "dc = dc.to(device)"
   ]
  },
  {
   "cell_type": "markdown",
   "id": "cda8f650",
   "metadata": {},
   "source": [
    "### Optimization loop"
   ]
  },
  {
   "cell_type": "code",
   "execution_count": null,
   "id": "d180ed6b",
   "metadata": {
    "scrolled": false
   },
   "outputs": [],
   "source": [
    "from pytorch3d.loss import (\n",
    "    chamfer_distance, \n",
    "    mesh_edge_loss, \n",
    "    mesh_laplacian_smoothing, \n",
    "    mesh_normal_consistency,\n",
    ")\n",
    "\n",
    "# Number of optimization steps\n",
    "Niter = 800\n",
    "plot_period = 200\n",
    "\n",
    "for i in range(Niter):\n",
    "    # Initialize optimizer\n",
    "    optimizer.zero_grad()\n",
    "    \n",
    "    dc_deform = model(dc)\n",
    "    \n",
    "    # We compare the two sets of pointclouds by computing (a) the chamfer loss\n",
    "    src_pts = dc_deform.to_points()[None]\n",
    "    tgt_pts = dc.to_points()[None]\n",
    "    loss, _ = chamfer_distance(src_pts, tgt_pts)\n",
    "    \n",
    "    # Plot results\n",
    "    if i % plot_period == 0:\n",
    "        print('Loss:', loss.item())\n",
    "        dc_deform.visualize()\n",
    "        \n",
    "    # Optimization step\n",
    "    loss.backward()\n",
    "    optimizer.step()"
   ]
  }
 ],
 "metadata": {
  "kernelspec": {
   "display_name": "Python 3 (ipykernel)",
   "language": "python",
   "name": "python3"
  },
  "language_info": {
   "codemirror_mode": {
    "name": "ipython",
    "version": 3
   },
   "file_extension": ".py",
   "mimetype": "text/x-python",
   "name": "python",
   "nbconvert_exporter": "python",
   "pygments_lexer": "ipython3",
   "version": "3.8.8"
  }
 },
 "nbformat": 4,
 "nbformat_minor": 5
}
