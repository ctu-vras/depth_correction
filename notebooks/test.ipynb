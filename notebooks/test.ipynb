{
 "cells": [
  {
   "cell_type": "code",
   "execution_count": 1,
   "id": "757ad5fd",
   "metadata": {},
   "outputs": [
    {
     "name": "stdout",
     "output_type": "stream",
     "text": [
      "Jupyter environment detected. Enabling Open3D WebVisualizer.\n",
      "[Open3D INFO] WebRTC GUI backend enabled.\n",
      "[Open3D INFO] WebRTCWindowSystem: HTTP handshake server disabled.\n"
     ]
    }
   ],
   "source": [
    "import torch\n",
    "import numpy as np\n",
    "import open3d as o3d\n",
    "import sys\n",
    "sys.path.append('../src/')\n",
    "import os\n",
    "from data.asl_laser import Dataset"
   ]
  },
  {
   "cell_type": "code",
   "execution_count": 2,
   "id": "b73b28d3",
   "metadata": {},
   "outputs": [
    {
     "data": {
      "text/plain": [
       "45"
      ]
     },
     "execution_count": 2,
     "metadata": {},
     "output_type": "execute_result"
    }
   ],
   "source": [
    "sequences_names = [\n",
    "    'apartment',\n",
    "    'eth',\n",
    "    'gazebo_winter',\n",
    "    'gazebo_summer',\n",
    "    'plain',\n",
    "    'stairs',\n",
    "    'wood_summer',\n",
    "    'wood_autumn'\n",
    "]\n",
    "\n",
    "data_path = '/home/ruslan/datasets/data/asl_laser/'\n",
    "\n",
    "data = Dataset(path=os.path.join(data_path, sequences_names[0]))\n",
    "len(data)"
   ]
  },
  {
   "cell_type": "code",
   "execution_count": 3,
   "id": "9c894101",
   "metadata": {},
   "outputs": [],
   "source": [
    "# clouds = []\n",
    "# for id in data.ids[::5]:\n",
    "\n",
    "#     # cloud = data.global_cloud(id)\n",
    "\n",
    "#     cloud = data.local_cloud(id)\n",
    "#     pose = data.cloud_pose(id)\n",
    "#     cloud = np.matmul(cloud, pose[:3, :3].T) + pose[:3, 3:].T\n",
    "\n",
    "#     clouds.append(cloud)\n",
    "#     print('%i points read from dataset %s, cloud %i.' % (cloud.shape[0], data.name, id))\n",
    "# cloud = np.concatenate(clouds)"
   ]
  },
  {
   "cell_type": "markdown",
   "id": "2bdc4991",
   "metadata": {},
   "source": [
    "### Test DepthCloud data represenation"
   ]
  },
  {
   "cell_type": "code",
   "execution_count": 4,
   "id": "d2b42654",
   "metadata": {},
   "outputs": [],
   "source": [
    "from depth_correction.depth_cloud import depth_cloud_from_points"
   ]
  },
  {
   "cell_type": "code",
   "execution_count": 5,
   "id": "7a1875d0",
   "metadata": {},
   "outputs": [
    {
     "data": {
      "text/plain": [
       "True"
      ]
     },
     "execution_count": 5,
     "metadata": {},
     "output_type": "execute_result"
    }
   ],
   "source": [
    "points = torch.from_numpy(data.local_cloud(id=0)[::10, :])\n",
    "\n",
    "depth_cloud = depth_cloud_from_points(pts=points)\n",
    "\n",
    "torch.allclose(points, depth_cloud.to_points())"
   ]
  },
  {
   "cell_type": "code",
   "execution_count": 6,
   "id": "ffdf7569",
   "metadata": {},
   "outputs": [],
   "source": [
    "# depth_cloud.visualize()"
   ]
  },
  {
   "cell_type": "code",
   "execution_count": 7,
   "id": "f44ab69a",
   "metadata": {},
   "outputs": [],
   "source": [
    "depth_cloud.estimate_normals()"
   ]
  },
  {
   "cell_type": "code",
   "execution_count": 8,
   "id": "6e00533d",
   "metadata": {},
   "outputs": [],
   "source": [
    "# depth_cloud.visualize(normals=True)"
   ]
  },
  {
   "cell_type": "code",
   "execution_count": 9,
   "id": "176174c4",
   "metadata": {},
   "outputs": [],
   "source": [
    "depth_cloud.estimate_incidence_angles()"
   ]
  },
  {
   "cell_type": "code",
   "execution_count": 10,
   "id": "566b8ea6",
   "metadata": {},
   "outputs": [],
   "source": [
    "from depth_correction.model import Linear"
   ]
  },
  {
   "cell_type": "code",
   "execution_count": 11,
   "id": "010cc80d",
   "metadata": {},
   "outputs": [],
   "source": [
    "model = Linear()"
   ]
  },
  {
   "cell_type": "code",
   "execution_count": 12,
   "id": "b10febfb",
   "metadata": {},
   "outputs": [],
   "source": [
    "dc_corr = model(depth_cloud)"
   ]
  },
  {
   "cell_type": "code",
   "execution_count": 13,
   "id": "dabaac49",
   "metadata": {},
   "outputs": [
    {
     "data": {
      "text/plain": [
       "tensor([[0.7061],\n",
       "        [0.6950],\n",
       "        [0.6576],\n",
       "        ...,\n",
       "        [1.4556],\n",
       "        [1.4218],\n",
       "        [1.4307]], dtype=torch.float64)"
      ]
     },
     "execution_count": 13,
     "metadata": {},
     "output_type": "execute_result"
    }
   ],
   "source": [
    "depth_cloud.depth"
   ]
  },
  {
   "cell_type": "code",
   "execution_count": 15,
   "id": "9ac9b912",
   "metadata": {},
   "outputs": [
    {
     "data": {
      "text/plain": [
       "<depth_correction.depth_cloud.DepthCloud at 0x7f3e827c1b50>"
      ]
     },
     "execution_count": 15,
     "metadata": {},
     "output_type": "execute_result"
    }
   ],
   "source": [
    "dc_corr"
   ]
  }
 ],
 "metadata": {
  "kernelspec": {
   "display_name": "Python 3 (ipykernel)",
   "language": "python",
   "name": "python3"
  },
  "language_info": {
   "codemirror_mode": {
    "name": "ipython",
    "version": 3
   },
   "file_extension": ".py",
   "mimetype": "text/x-python",
   "name": "python",
   "nbconvert_exporter": "python",
   "pygments_lexer": "ipython3",
   "version": "3.8.8"
  }
 },
 "nbformat": 4,
 "nbformat_minor": 5
}
