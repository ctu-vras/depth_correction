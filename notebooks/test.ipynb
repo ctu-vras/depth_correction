{
 "cells": [
  {
   "cell_type": "code",
   "execution_count": 1,
   "id": "2058ee83",
   "metadata": {},
   "outputs": [
    {
     "name": "stdout",
     "output_type": "stream",
     "text": [
      "Jupyter environment detected. Enabling Open3D WebVisualizer.\n",
      "[Open3D INFO] WebRTC GUI backend enabled.\n",
      "[Open3D INFO] WebRTCWindowSystem: HTTP handshake server disabled.\n"
     ]
    }
   ],
   "source": [
    "import torch\n",
    "import numpy as np\n",
    "import open3d as o3d\n",
    "import sys\n",
    "sys.path.append('../src/')\n",
    "import os\n",
    "from data.asl_laser import Dataset"
   ]
  },
  {
   "cell_type": "code",
   "execution_count": 2,
   "id": "4f796b44",
   "metadata": {},
   "outputs": [
    {
     "data": {
      "text/plain": [
       "45"
      ]
     },
     "execution_count": 2,
     "metadata": {},
     "output_type": "execute_result"
    }
   ],
   "source": [
    "sequences_names = [\n",
    "    'apartment',\n",
    "    'eth',\n",
    "    'gazebo_winter',\n",
    "    'gazebo_summer',\n",
    "    'plain',\n",
    "    'stairs',\n",
    "    'wood_summer',\n",
    "    'wood_autumn'\n",
    "]\n",
    "\n",
    "data_path = '/home/ruslan/datasets/data/asl_laser/'\n",
    "\n",
    "data = Dataset(path=os.path.join(data_path, sequences_names[0]))\n",
    "len(data)"
   ]
  },
  {
   "cell_type": "code",
   "execution_count": 3,
   "id": "a4add947",
   "metadata": {},
   "outputs": [],
   "source": [
    "# clouds = []\n",
    "# for id in data.ids[::5]:\n",
    "\n",
    "#     # cloud = data.global_cloud(id)\n",
    "\n",
    "#     cloud = data.local_cloud(id)\n",
    "#     pose = data.cloud_pose(id)\n",
    "#     cloud = np.matmul(cloud, pose[:3, :3].T) + pose[:3, 3:].T\n",
    "\n",
    "#     clouds.append(cloud)\n",
    "#     print('%i points read from dataset %s, cloud %i.' % (cloud.shape[0], data.name, id))\n",
    "# cloud = np.concatenate(clouds)"
   ]
  },
  {
   "cell_type": "code",
   "execution_count": 4,
   "id": "7938bf05",
   "metadata": {},
   "outputs": [],
   "source": [
    "from depth_correction.depth_cloud import depth_cloud_from_points"
   ]
  },
  {
   "cell_type": "code",
   "execution_count": 5,
   "id": "8567ae32",
   "metadata": {},
   "outputs": [],
   "source": [
    "points = torch.from_numpy(data.local_cloud(id=0))\n",
    "\n",
    "depth_cloud = depth_cloud_from_points(pts=points)"
   ]
  },
  {
   "cell_type": "code",
   "execution_count": 6,
   "id": "ad90c842",
   "metadata": {},
   "outputs": [
    {
     "data": {
      "text/plain": [
       "True"
      ]
     },
     "execution_count": 6,
     "metadata": {},
     "output_type": "execute_result"
    }
   ],
   "source": [
    "torch.allclose(points, depth_cloud.to_points())"
   ]
  },
  {
   "cell_type": "code",
   "execution_count": 7,
   "id": "2b712db7",
   "metadata": {},
   "outputs": [],
   "source": [
    "depth_cloud.visualize()"
   ]
  }
 ],
 "metadata": {
  "kernelspec": {
   "display_name": "Python 3 (ipykernel)",
   "language": "python",
   "name": "python3"
  },
  "language_info": {
   "codemirror_mode": {
    "name": "ipython",
    "version": 3
   },
   "file_extension": ".py",
   "mimetype": "text/x-python",
   "name": "python",
   "nbconvert_exporter": "python",
   "pygments_lexer": "ipython3",
   "version": "3.8.8"
  }
 },
 "nbformat": 4,
 "nbformat_minor": 5
}
